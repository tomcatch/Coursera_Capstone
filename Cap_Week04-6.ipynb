{
 "cells": [
  {
   "cell_type": "markdown",
   "metadata": {},
   "source": [
    "<h1>Italian Restaurant Rocket</h1>"
   ]
  },
  {
   "cell_type": "markdown",
   "metadata": {},
   "source": [
    "<h2>1. Introduction/Business Problem</h2>"
   ]
  },
  {
   "cell_type": "markdown",
   "metadata": {},
   "source": [
    "Opening a new restaurant is a challenging endeavour. Lots of financial and material resources need to be invested. After the opening, fixed as well as variable costs need to be covered; also, the initial investments need to be amortized after a certain time frame. To achieve this, the owner or manager of a restaurant can adjust many aspects of the restaurant, e.g. \n",
    "<ul>\n",
    "<li>pricing of the food and beverages served,</li>\n",
    "<li>quality of the food and beverages served,</li>\n",
    "<li>furniture, style and ambience of the interior,</li>\n",
    "<li>staff (e.g. chef, waiter/waitress),</li>\n",
    "<li>different types of marketing (e.g. paid, owned, and earned media),</li>\n",
    "<li>and others.\n",
    "</ul>\n",
    "<p></p>\n",
    "However, one crucial aspect cannot be changed so easily: location. Thus, picking the right location is vital for success. Specifically, location determines a restaurant's success with regards to two aspects:\n",
    "<ol>\n",
    "    <li>customer potential</li>\n",
    "    <li>competition</li>\n",
    "</ol>\n",
    "<b><i>Customer potential</i></b> refers to the reachable target market, i.e. those people a restaurant can realistically expect to reach and convert into customers. People can physically reach a restaurant by public transport, by bicycle, or simply by foot. The farther people live or work away from a restaurant, the more effort the need to put into getting there. Thus, the more they need to be convinced, or \"persuaded\", to go there. Consequently, in an ideal situation, a restaurant is located at a spot that already is highly frequented by potential customers, e.g. a location where many pedestrians pass anyway.\n",
    "<p></p>\n",
    "<b><i>Competition</i></b> refers to alternative options for potential customer to serve their needs. In the case of a restaurant, direct competition refers to other restaurants. The more restaurants are located nearby a new restaurant, the stiffer the competition. In addition, the type of other restaurant matters. For example, if there are many restaurants nearby, but all offering other type of cuisine, e.g. none of them Italian, this could still be an opportunity for a new Italian restaurant.\n",
    "<p></p>\n",
    "The business problem for this capstone project is defined as follows:\n",
    "<ul>\n",
    "    <li>An Italian restaurant chain wants to open a new Italian restaurant in NYC</li>\n",
    "    <li>The chain's management is uncertain where the best location would be</li>\n",
    "    <li>The management is aware that many aspects determine the success of the new restaurant</li>\n",
    "    <li>The management however wants to be assisted with finding promising locations by specifically focusing on two aspects: 1) <i>customer potential</i> and 2) <i>competition</i></li>\n",
    "    <li>The management wants to be provided with a list of attractive locations they can further narrow down using other aspects that are not disclosed at the moment</li>\n",
    "</ul>"
   ]
  },
  {
   "cell_type": "markdown",
   "metadata": {},
   "source": [
    "<h2>2. Description of Data and its Application</h2>\n",
    "<h3>2.1 The data</h3>\n",
    "\n",
    "<p>Two different types of data sources are used identify promising restaurant locations for the restaurant chain:</p>\n",
    "<ol>\n",
    "    <li>Publicly available data from the City of News York on pedestrian counts for specific locations within NYC</li>\n",
    "    <li>Foursquare data for assessing the number of available restaurant overall and Italian restaurants specifically in the vicinity of specific locations within NYC</li>\n",
    "</ol>"
   ]
  },
  {
   "cell_type": "markdown",
   "metadata": {},
   "source": [
    "The <b>data on pedestrian counts</b> will be used to assess the <b>customer potential</b>. High volume of pedestrian counts simply mean higher customer potential. The City of New York regularly publishes pedestrian counts for 114 locations. For each location, data are available for AM and PM, i.e. in the morning and in the afternoon/evening. The latter phase is certainly more relevant for a traditional Italian restaurant. In addition, longitude and latitude values are provided for each of the counter. See also https://data.cityofnewyork.us/Transportation/Bi-Annual-Pedestrian-Counts/2de2-6x2h"
   ]
  },
  {
   "cell_type": "markdown",
   "metadata": {},
   "source": [
    "The <b>Foursquare API</b> will be used to fetch the number of restaurants overall and of Italian restaurants specifically for the vicinity (approx. 350 meters) of each of the 114 locations of pedestrian counters in order to assess <b>competition</b>."
   ]
  },
  {
   "cell_type": "markdown",
   "metadata": {},
   "source": [
    "As a result, for each vicinity around a pedestrian counter there will be data available on:\n",
    "    <ul>\n",
    "    <li>Pedestrian volume (esp. PM)</li>\n",
    "    <li>Location (longitude/latidue)</li>\n",
    "    <li>Number of available restaurants overall</li>\n",
    "    <li>Number of Italian restaurants specifically</li>\n",
    "    </ul>"
   ]
  },
  {
   "cell_type": "markdown",
   "metadata": {},
   "source": [
    "<h3>2.2 Application of Data</h3>\n"
   ]
  },
  {
   "cell_type": "markdown",
   "metadata": {},
   "source": [
    "K-Means clustering will be applied to identify groups of locations that are more or less promising restaurant locations. Data used for clustering are:\n",
    "<ul>\n",
    " <li>Pedestrian volume (esp. PM)</li>\n",
    "    <li>Number of available restaurants overall</li>\n",
    "    <li>Number of Italian restaurants specifically</li>\n",
    "    </ul>\n",
    "<p></p>    \n",
    "Probably, different clustering solutions will need to be assessed, i.e. 2-, 3- or x-cluster solutions.\n",
    "    Once a good clustering solution is identified, the groups or segments of locations will be plotted on a NYC map using Folium. Each cluster will be highlighted in a different color, so that the target audience can quickly and easily grasp which restaurant locations are promising."
   ]
  },
  {
   "cell_type": "code",
   "execution_count": null,
   "metadata": {},
   "outputs": [],
   "source": []
  }
 ],
 "metadata": {
  "kernelspec": {
   "display_name": "Python 3",
   "language": "python",
   "name": "python3"
  },
  "language_info": {
   "codemirror_mode": {
    "name": "ipython",
    "version": 3
   },
   "file_extension": ".py",
   "mimetype": "text/x-python",
   "name": "python",
   "nbconvert_exporter": "python",
   "pygments_lexer": "ipython3",
   "version": "3.6.6"
  }
 },
 "nbformat": 4,
 "nbformat_minor": 2
}
