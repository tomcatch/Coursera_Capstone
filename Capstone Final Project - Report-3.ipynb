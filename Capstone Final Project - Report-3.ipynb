{
 "cells": [
  {
   "cell_type": "markdown",
   "metadata": {},
   "source": [
    "<h1>Italian Restaurant Rocket - Report</h1>\n",
    "<h2><i>Capstone Final Project</i></h2>"
   ]
  },
  {
   "cell_type": "markdown",
   "metadata": {},
   "source": [
    "<h2>1. Introduction/Business Problem</h2>"
   ]
  },
  {
   "cell_type": "markdown",
   "metadata": {},
   "source": [
    "Opening a new restaurant is a challenging endeavour. Lots of financial and material resources need to be invested. After the opening, fixed as well as variable costs need to be covered; also, the initial investments need to be amortized after a certain time frame. To achieve this, the owner or manager of a restaurant can adjust many aspects of the restaurant, e.g. \n",
    "<ul>\n",
    "<li>pricing of the food and beverages served,</li>\n",
    "<li>quality of the food and beverages served,</li>\n",
    "<li>furniture, style and ambience of the interior,</li>\n",
    "<li>staff (e.g. chef, waiter/waitress),</li>\n",
    "<li>different types of marketing (e.g. paid, owned, and earned media),</li>\n",
    "<li>and others.\n",
    "</ul>\n",
    "<p></p>\n",
    "However, one crucial aspect cannot be changed so easily: location. Thus, picking the right location is vital for success. Specifically, location determines a restaurant's success with regards to two aspects:\n",
    "<ol>\n",
    "    <li>customer potential</li>\n",
    "    <li>competition</li>\n",
    "</ol>\n",
    "<b><i>Customer potential</i></b> refers to the reachable target market, i.e. those people a restaurant can realistically expect to reach and convert into customers. People can physically reach a restaurant by public transport, by bicycle, or simply by foot. The farther people live or work away from a restaurant, the more effort the need to put into getting there. Thus, the more they need to be convinced, or \"persuaded\", to go there. Consequently, in an ideal situation, a restaurant is located at a spot that already is highly frequented by potential customers, e.g. a location where many pedestrians pass anyway.\n",
    "<p></p>\n",
    "<b><i>Competition</i></b> refers to alternative options for potential customer to serve their needs. In the case of a restaurant, direct competition refers to other restaurants. The more restaurants are located nearby a new restaurant, the stiffer the competition. In addition, the type of other restaurant matters. For example, if there are many restaurants nearby, but all offering other type of cuisine, e.g. none of them Italian, this could still be an opportunity for a new Italian restaurant.\n",
    "<p></p>\n",
    "The business problem for this capstone project is defined as follows:\n",
    "<ul>\n",
    "    <li>An Italian restaurant chain wants to open a new Italian restaurant in NYC</li>\n",
    "    <li>The chain's management is uncertain where the best location would be</li>\n",
    "    <li>The management is aware that many aspects determine the success of the new restaurant</li>\n",
    "    <li>The management however wants to be assisted with finding promising locations by specifically focusing on two aspects: 1) <i>customer potential</i> and 2) <i>competition</i></li>\n",
    "    <li>The management wants to be provided with a list of attractive locations they can further narrow down using other aspects that are not disclosed at the moment</li>\n",
    "</ul>"
   ]
  },
  {
   "cell_type": "markdown",
   "metadata": {},
   "source": [
    "<h2>2. Description of Data and its Application</h2>\n",
    "<h3>2.1 The data</h3>\n",
    "\n",
    "<p>Two different types of data sources are used identify promising restaurant locations for the restaurant chain:</p>\n",
    "<ol>\n",
    "    <li>Publicly available data from the City of New York on pedestrian counts for specific locations within NYC</li>\n",
    "    <li>Foursquare data for assessing the number of available restaurant overall and Italian restaurants specifically in the vicinity of specific locations within NYC</li>\n",
    "</ol>"
   ]
  },
  {
   "cell_type": "markdown",
   "metadata": {},
   "source": [
    "The <b>data on pedestrian counts</b> will be used to assess the <b>customer potential</b>. High volume of pedestrian counts simply mean higher customer potential. The City of New York regularly publishes pedestrian counts for 114 locations. For each location, data are available for AM and PM, i.e. in the morning and in the afternoon/evening. The latter phase is certainly more relevant for a traditional Italian restaurant. In addition, longitude and latitude values are provided for each of the counter. See also https://data.cityofnewyork.us/Transportation/Bi-Annual-Pedestrian-Counts/2de2-6x2h"
   ]
  },
  {
   "cell_type": "markdown",
   "metadata": {},
   "source": [
    "The <b>Foursquare API</b> will be used to fetch the number of restaurants overall and of Italian restaurants specifically for the vicinity (approx. 350 meters) of each of the 114 locations of pedestrian counters in order to assess <b>competition</b>."
   ]
  },
  {
   "cell_type": "markdown",
   "metadata": {},
   "source": [
    "As a result, for each vicinity around a pedestrian counter there will be data available on:\n",
    "    <ul>\n",
    "    <li>Pedestrian volume (esp. PM)</li>\n",
    "    <li>Location (longitude/latidue)</li>\n",
    "    <li>Number of available restaurants overall</li>\n",
    "    <li>Number of Italian restaurants specifically</li>\n",
    "    </ul>"
   ]
  },
  {
   "cell_type": "markdown",
   "metadata": {},
   "source": [
    "<h3>2.2 Application of Data</h3>\n"
   ]
  },
  {
   "cell_type": "markdown",
   "metadata": {},
   "source": [
    "K-Means clustering will be applied to identify groups of locations that are more or less promising restaurant locations. Data used for clustering are:\n",
    "<ul>\n",
    " <li>Pedestrian volume (esp. PM)</li>\n",
    "    <li>Number of available restaurants overall</li>\n",
    "    <li>Number of Italian restaurants specifically</li>\n",
    "    </ul>\n",
    "<p></p>    \n",
    "Probably, different clustering solutions will need to be assessed, i.e. 2-, 3- or x-cluster solutions.\n",
    "    Once a good clustering solution is identified, the groups or segments of locations will be plotted on a NYC map using Folium. Each cluster will be highlighted in a different color, so that the target audience can quickly and easily grasp which restaurant locations are promising."
   ]
  },
  {
   "cell_type": "markdown",
   "metadata": {},
   "source": [
    "<h2>3. Methodology</h2>\n",
    "\n",
    "<h3>3.1 Preparing data for cluster analysis</h3>\n",
    "\n",
    "This projects utilized two different datasets:\n",
    "<ol>\n",
    "    <li>Publicly available data from the City of News York on pedestrian counts for specific locations within NYC</li>\n",
    "    <li>Foursquare data for assessing the number of available restaurant overall and Italian restaurants specifically in the vicinity of specific locations within NYC</li>\n",
    "</ol>\n",
    "\n",
    "Both datasets were scrutinized prior to using them for data analysis, as follows.\n",
    "\n",
    "First, for the dataset on NYC pedestrian counts, the following steps were taken:\n",
    "<ul>\n",
    "    <li>comparing the actual downloaded data with its description of the website - results:</li>\n",
    "    <ul>\n",
    "        <li>114 pedestrian counters are listed (checked via Pandas dataframe)</li>\n",
    "        <li>114 pedestrian counters are spread over the area of NYC (checked via Folium map)</li>\n",
    "        <li>for each counter, the pedestrian volume is provided for one weekday in May and September, divided into AM and PM, and a Saturday with pedestrian volume for the second half of the day only (checked via Pandas data frame)</li>\n",
    "        <li>the data is provided for a 10-year time period (2007 to 2017, checked via Pandas dataframe)</li>\n",
    "    </ul>\n",
    "</ul>\n",
    "As part of pre-processing the data, ...\n",
    "<ul>\n",
    "    <li>the mean of weekday PM May, Saturday May and weekday PM September and Saturday September was calculated for each pedestrian counter, considering the last 3 available years (i.e. 2015-2017)</li>\n",
    "</ul>\n",
    "        \n",
    "Second, regarding the Foursquare data, ...\n",
    "<ul>\n",
    "    <li>for each of the 114 pedestrian counters, the number of available restaurants or \"food places\" overall as well of specifically Italian restaurants was obtained for the vicinity of 300 meters around each counter; this was done by using two different venue IDs</li>\n",
    "    <li>plausibility of the data was assessed by checking actual numbers of restaurants (\"Does the magnitude seem reasonable?\") and by comparing the total number of restaurants with that of specifically Italian restaurants (Number of Italian restaurants always being a subset of and thus smaller number than that of total restaurants)</li>\n",
    "</ul>\n",
    "Third, the input data for cluster analysis was normalized by obtaining the difference of each value from the column mean and dividing it by the standard deviation of the column (so-called Z transformation, see columns Zrestaurants, Zitalianrestaurants, and Zfrequency in notebook).\n",
    "\n",
    "<h3>3.2 Conducting cluster analysis</h3>\n",
    "Kmeans was chosen as clustering method. After an initial 5-cluster solution did not provide completely different 5 clusters, a 3-cluster solution was chosen. Such smaller number of clusters seems also reasonable as there are only 114 cases to be assigned to the different clusters. Cluster analysis was chosen to identify different groups of areas where a new restaurant could be opened. Each of these groups represents a different combination of customer potential and competition."
   ]
  },
  {
   "cell_type": "markdown",
   "metadata": {},
   "source": [
    "<h2>4. Results</h2>\n",
    "\n",
    "The main result of the cluster analysis is the three-cluster clustering solution. The three clusters are of relatively similar size.\n",
    "\n",
    "This result can be used in two ways:\n",
    "<ol>\n",
    "    <li>assessing the means of the critical variables (i.e. pedestrian count, number of restaurants overall, number of Italian restaurants) per cluster in order to better understand the respective cluster (see respective table below and in notebook)</li>\n",
    "    <li>plotting all 114 pedestrian counters on a NYC map while indicating which counter belongs to which cluster) in order to geographically understand the results (see respective map in notebook)\n",
    "</ol>\n",
    "\n",
    "The means are as follows:\n",
    "<ul>\n",
    "    <li>cluster 0</li>\n",
    "    <ul>\n",
    "        <li># total restaurants: 44.947368</li>\n",
    "        <li># Italian restaurants: 5.868421</li>\n",
    "        <li># pedestrian frequency: 5304.263158</li>\n",
    "    </ul>\n",
    "    <li>cluster 1</li>\n",
    "    <ul>\n",
    "        <li># total restaurants: 15.894737</li>\n",
    "        <li># Italian restaurants: 1.245614</li>\n",
    "        <li># pedestrian frequency: 1859.035088</li>\n",
    "    </ul>\n",
    "    <li>cluster 2</li>\n",
    "     <ul>\n",
    "        <li># total restaurants: 59.526316</li>\n",
    "        <li># Italian restaurants: 21.263158</li>\n",
    "        <li># pedestrian frequency: 10300.894737</li>\n",
    "    </ul>\n",
    "    \n",
    "</ul>"
   ]
  },
  {
   "cell_type": "markdown",
   "metadata": {},
   "source": [
    "The numbers of (Italian) restaurants represent the <i>competition dimension</i>, the frequency column represents the <i>customer potential dimension</i>.\n",
    "\n",
    "<b>Cluster 2</b> clearly features the largest potential customer base, but also the stiffest competition in terms of 1) total number of restaurants and portion of Italian restaurants (approx. 1 in 3). \n",
    "\n",
    "<b>Cluster 1</b> clearly features the smallest potential customer base and lowest levels of competition.\n",
    "\n",
    "<b>Cluster 0</b> features a medium level of customer potential, a relatively high level of overall competition, but relatively low portion of direct competition in the form of other Italian restaurants. \n",
    "\n"
   ]
  },
  {
   "cell_type": "markdown",
   "metadata": {},
   "source": [
    "<h2>5. Discussion</h2>\n",
    "\n"
   ]
  },
  {
   "cell_type": "markdown",
   "metadata": {},
   "source": [
    "Low-frequency spots included in cluster 1 seem not attractive to be further investigated for opening a new (Italian) restaurant.\n",
    "\n",
    "Clusters 0 and 2 feature seemingly attractive potential customer bases. While cluster 2 has twice the potential customer base of cluster 0, direct competition (from Italian restaurants) increases by almost factor 4. Thus, cluster 0 should be scrutinized by considering further factors such as costs for rent etc. Cluster 0 may eventually be more attractive than cluster 2 even if total potential customer base it not at maximum."
   ]
  },
  {
   "cell_type": "markdown",
   "metadata": {},
   "source": [
    "<h2>6. Conclusion</h2>\n",
    "Based on the results of this analysis, it can be concluded that both clusters 0 and 2 seem attractive for opening a new (Italian) restaurant thanks to the medium or high potential customer bases in these clusters. Considering only potential customer base and competition, it appears the high potential customer base does not make up for the stiffer direct competition (Italian restaurants). Thus, 1) cluster 0 may be more than just the sweet spot for a new Italian restaurant and 2) cluster 2 may be considered for opening a non-Italian restaurant.\n",
    "\n",
    "<h3>Limitations</h3>\n",
    "This analysis builds on data on pedestrian counts provided by NYC. Data is provided for 114 counters, i.e. different locations. These locations and their surroundings may not cover potential areas for opening a new restaurant in the most optimal way.\n",
    "\n",
    "Also, besides customer potential and competition, further criteria should be considered for making an ultimate decision on where to open the new restaurant. However, this analysis allows decision makers to narrow down potentially interesting areas to do so.\n",
    "\n",
    "\n"
   ]
  },
  {
   "cell_type": "code",
   "execution_count": null,
   "metadata": {},
   "outputs": [],
   "source": []
  }
 ],
 "metadata": {
  "kernelspec": {
   "display_name": "Python 3",
   "language": "python",
   "name": "python3"
  },
  "language_info": {
   "codemirror_mode": {
    "name": "ipython",
    "version": 3
   },
   "file_extension": ".py",
   "mimetype": "text/x-python",
   "name": "python",
   "nbconvert_exporter": "python",
   "pygments_lexer": "ipython3",
   "version": "3.6.8"
  }
 },
 "nbformat": 4,
 "nbformat_minor": 2
}
